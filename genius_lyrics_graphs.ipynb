{
 "cells": [
  {
   "cell_type": "code",
   "execution_count": 44,
   "metadata": {
    "collapsed": true
   },
   "outputs": [],
   "source": [
    "# Import dependencies\n",
    "import pandas as pd\n",
    "import numpy as np\n",
    "import matplotlib.pyplot as plt\n",
    "import seaborn as sns"
   ]
  },
  {
   "cell_type": "code",
   "execution_count": 45,
   "metadata": {
    "collapsed": true
   },
   "outputs": [],
   "source": [
    "# Store filepaths in variables\n",
    "new_results_file = \"music_list_data/new_results.csv\"\n",
    "old_results_file = \"music_list_data/old_results.csv\""
   ]
  },
  {
   "cell_type": "code",
   "execution_count": 46,
   "metadata": {
    "collapsed": false
   },
   "outputs": [],
   "source": [
    "# Read our data files with the pandas library\n",
    "new_results_df = pd.read_csv(new_results_file)\n",
    "old_results_df = pd.read_csv(old_results_file)"
   ]
  },
  {
   "cell_type": "code",
   "execution_count": 47,
   "metadata": {
    "collapsed": false
   },
   "outputs": [
    {
     "data": {
      "text/html": [
       "<div>\n",
       "<table border=\"1\" class=\"dataframe\">\n",
       "  <thead>\n",
       "    <tr style=\"text-align: right;\">\n",
       "      <th></th>\n",
       "      <th>artist</th>\n",
       "      <th>song</th>\n",
       "      <th>#_words</th>\n",
       "      <th>#_big_words</th>\n",
       "      <th>big_avg_word_len</th>\n",
       "    </tr>\n",
       "  </thead>\n",
       "  <tbody>\n",
       "    <tr>\n",
       "      <th>0</th>\n",
       "      <td>wu-tang clan</td>\n",
       "      <td>cream</td>\n",
       "      <td>679</td>\n",
       "      <td>256</td>\n",
       "      <td>5.121094</td>\n",
       "    </tr>\n",
       "    <tr>\n",
       "      <th>1</th>\n",
       "      <td>wu-tang clan</td>\n",
       "      <td>gravel pit</td>\n",
       "      <td>711</td>\n",
       "      <td>311</td>\n",
       "      <td>5.144695</td>\n",
       "    </tr>\n",
       "    <tr>\n",
       "      <th>2</th>\n",
       "      <td>wu-tang clan</td>\n",
       "      <td>triumph</td>\n",
       "      <td>1027</td>\n",
       "      <td>555</td>\n",
       "      <td>5.809009</td>\n",
       "    </tr>\n",
       "    <tr>\n",
       "      <th>3</th>\n",
       "      <td>wu-tang clan</td>\n",
       "      <td>bring da ruckus</td>\n",
       "      <td>616</td>\n",
       "      <td>225</td>\n",
       "      <td>5.466667</td>\n",
       "    </tr>\n",
       "    <tr>\n",
       "      <th>4</th>\n",
       "      <td>wu-tang clan</td>\n",
       "      <td>protect ya neck</td>\n",
       "      <td>66</td>\n",
       "      <td>26</td>\n",
       "      <td>4.692308</td>\n",
       "    </tr>\n",
       "  </tbody>\n",
       "</table>\n",
       "</div>"
      ],
      "text/plain": [
       "         artist             song  #_words  #_big_words  big_avg_word_len\n",
       "0  wu-tang clan            cream      679          256          5.121094\n",
       "1  wu-tang clan       gravel pit      711          311          5.144695\n",
       "2  wu-tang clan          triumph     1027          555          5.809009\n",
       "3  wu-tang clan  bring da ruckus      616          225          5.466667\n",
       "4  wu-tang clan  protect ya neck       66           26          4.692308"
      ]
     },
     "execution_count": 47,
     "metadata": {},
     "output_type": "execute_result"
    }
   ],
   "source": [
    "# Create a data frame with desired \"old\" data\n",
    "old_final_df = old_results_df.loc[:,['artist', 'song','#_words', '#_big_words', 'big_avg_word_len']]\n",
    "old_final_df.head()"
   ]
  },
  {
   "cell_type": "code",
   "execution_count": 48,
   "metadata": {
    "collapsed": false
   },
   "outputs": [
    {
     "data": {
      "text/html": [
       "<div>\n",
       "<table border=\"1\" class=\"dataframe\">\n",
       "  <thead>\n",
       "    <tr style=\"text-align: right;\">\n",
       "      <th></th>\n",
       "      <th>artist</th>\n",
       "      <th>song</th>\n",
       "      <th>#_words</th>\n",
       "      <th>#_big_words</th>\n",
       "      <th>big_avg_word_len</th>\n",
       "    </tr>\n",
       "  </thead>\n",
       "  <tbody>\n",
       "    <tr>\n",
       "      <th>0</th>\n",
       "      <td>21 savage</td>\n",
       "      <td>bank account</td>\n",
       "      <td>616</td>\n",
       "      <td>158</td>\n",
       "      <td>4.930380</td>\n",
       "    </tr>\n",
       "    <tr>\n",
       "      <th>1</th>\n",
       "      <td>21 savage</td>\n",
       "      <td>no heart</td>\n",
       "      <td>598</td>\n",
       "      <td>180</td>\n",
       "      <td>5.005556</td>\n",
       "    </tr>\n",
       "    <tr>\n",
       "      <th>2</th>\n",
       "      <td>21 savage</td>\n",
       "      <td>x</td>\n",
       "      <td>588</td>\n",
       "      <td>146</td>\n",
       "      <td>5.068493</td>\n",
       "    </tr>\n",
       "    <tr>\n",
       "      <th>3</th>\n",
       "      <td>21 savage</td>\n",
       "      <td>red opps</td>\n",
       "      <td>448</td>\n",
       "      <td>101</td>\n",
       "      <td>4.376238</td>\n",
       "    </tr>\n",
       "    <tr>\n",
       "      <th>4</th>\n",
       "      <td>21 savage</td>\n",
       "      <td>issa</td>\n",
       "      <td>589</td>\n",
       "      <td>237</td>\n",
       "      <td>5.067511</td>\n",
       "    </tr>\n",
       "  </tbody>\n",
       "</table>\n",
       "</div>"
      ],
      "text/plain": [
       "      artist          song  #_words  #_big_words  big_avg_word_len\n",
       "0  21 savage  bank account      616          158          4.930380\n",
       "1  21 savage      no heart      598          180          5.005556\n",
       "2  21 savage             x      588          146          5.068493\n",
       "3  21 savage      red opps      448          101          4.376238\n",
       "4  21 savage          issa      589          237          5.067511"
      ]
     },
     "execution_count": 48,
     "metadata": {},
     "output_type": "execute_result"
    }
   ],
   "source": [
    "# Create a data frame with desired \"new\" data\n",
    "new_final_df = new_results_df.loc[:,['artist', 'song','#_words', '#_big_words', 'big_avg_word_len']]\n",
    "new_final_df.head()"
   ]
  },
  {
   "cell_type": "code",
   "execution_count": 49,
   "metadata": {
    "collapsed": false
   },
   "outputs": [
    {
     "data": {
      "text/html": [
       "<div>\n",
       "<table border=\"1\" class=\"dataframe\">\n",
       "  <thead>\n",
       "    <tr style=\"text-align: right;\">\n",
       "      <th></th>\n",
       "      <th>artist</th>\n",
       "      <th>#_words</th>\n",
       "      <th>#_big_words</th>\n",
       "      <th>big_avg_word_len</th>\n",
       "      <th>Rap Genre</th>\n",
       "    </tr>\n",
       "  </thead>\n",
       "  <tbody>\n",
       "    <tr>\n",
       "      <th>0</th>\n",
       "      <td>2pac</td>\n",
       "      <td>663.400000</td>\n",
       "      <td>210.400000</td>\n",
       "      <td>5.063684</td>\n",
       "      <td>90's Rap</td>\n",
       "    </tr>\n",
       "    <tr>\n",
       "      <th>1</th>\n",
       "      <td>a tribe called quest</td>\n",
       "      <td>670.000000</td>\n",
       "      <td>240.600000</td>\n",
       "      <td>5.154719</td>\n",
       "      <td>90's Rap</td>\n",
       "    </tr>\n",
       "    <tr>\n",
       "      <th>2</th>\n",
       "      <td>bone thugs n harmony</td>\n",
       "      <td>792.750000</td>\n",
       "      <td>241.750000</td>\n",
       "      <td>5.015343</td>\n",
       "      <td>90's Rap</td>\n",
       "    </tr>\n",
       "    <tr>\n",
       "      <th>3</th>\n",
       "      <td>dr dre</td>\n",
       "      <td>672.666667</td>\n",
       "      <td>224.166667</td>\n",
       "      <td>5.059379</td>\n",
       "      <td>90's Rap</td>\n",
       "    </tr>\n",
       "    <tr>\n",
       "      <th>4</th>\n",
       "      <td>eminem</td>\n",
       "      <td>887.000000</td>\n",
       "      <td>264.400000</td>\n",
       "      <td>5.186498</td>\n",
       "      <td>90's Rap</td>\n",
       "    </tr>\n",
       "  </tbody>\n",
       "</table>\n",
       "</div>"
      ],
      "text/plain": [
       "                 artist     #_words  #_big_words  big_avg_word_len Rap Genre\n",
       "0                  2pac  663.400000   210.400000          5.063684  90's Rap\n",
       "1  a tribe called quest  670.000000   240.600000          5.154719  90's Rap\n",
       "2  bone thugs n harmony  792.750000   241.750000          5.015343  90's Rap\n",
       "3                dr dre  672.666667   224.166667          5.059379  90's Rap\n",
       "4                eminem  887.000000   264.400000          5.186498  90's Rap"
      ]
     },
     "execution_count": 49,
     "metadata": {},
     "output_type": "execute_result"
    }
   ],
   "source": [
    "# Aggregate data by artist to find mean values, and create column to label artist by genre\n",
    "old_agg_df = old_final_df.groupby('artist').agg({\"#_words\" : \"mean\", \n",
    "                                                  \"#_big_words\" : \"mean\",\n",
    "                                                  \"big_avg_word_len\" : \"mean\"})\n",
    "old_agg_df = old_agg_df.reset_index()\n",
    "old_agg_df['Rap Genre'] = '90\\'s Rap'\n",
    "old_agg_df.head()"
   ]
  },
  {
   "cell_type": "code",
   "execution_count": 50,
   "metadata": {
    "collapsed": false
   },
   "outputs": [
    {
     "data": {
      "text/html": [
       "<div>\n",
       "<table border=\"1\" class=\"dataframe\">\n",
       "  <thead>\n",
       "    <tr style=\"text-align: right;\">\n",
       "      <th></th>\n",
       "      <th>artist</th>\n",
       "      <th>#_words</th>\n",
       "      <th>#_big_words</th>\n",
       "      <th>big_avg_word_len</th>\n",
       "      <th>Rap Genre</th>\n",
       "    </tr>\n",
       "  </thead>\n",
       "  <tbody>\n",
       "    <tr>\n",
       "      <th>0</th>\n",
       "      <td>21 savage</td>\n",
       "      <td>567.8</td>\n",
       "      <td>164.4</td>\n",
       "      <td>4.889635</td>\n",
       "      <td>Mumble Rap</td>\n",
       "    </tr>\n",
       "    <tr>\n",
       "      <th>1</th>\n",
       "      <td>desiigner</td>\n",
       "      <td>598.6</td>\n",
       "      <td>118.6</td>\n",
       "      <td>4.894941</td>\n",
       "      <td>Mumble Rap</td>\n",
       "    </tr>\n",
       "    <tr>\n",
       "      <th>2</th>\n",
       "      <td>fetty wap</td>\n",
       "      <td>520.0</td>\n",
       "      <td>122.4</td>\n",
       "      <td>4.836354</td>\n",
       "      <td>Mumble Rap</td>\n",
       "    </tr>\n",
       "    <tr>\n",
       "      <th>3</th>\n",
       "      <td>future</td>\n",
       "      <td>663.6</td>\n",
       "      <td>149.2</td>\n",
       "      <td>5.090932</td>\n",
       "      <td>Mumble Rap</td>\n",
       "    </tr>\n",
       "    <tr>\n",
       "      <th>4</th>\n",
       "      <td>kodak black</td>\n",
       "      <td>622.8</td>\n",
       "      <td>137.2</td>\n",
       "      <td>4.997953</td>\n",
       "      <td>Mumble Rap</td>\n",
       "    </tr>\n",
       "  </tbody>\n",
       "</table>\n",
       "</div>"
      ],
      "text/plain": [
       "        artist  #_words  #_big_words  big_avg_word_len   Rap Genre\n",
       "0    21 savage    567.8        164.4          4.889635  Mumble Rap\n",
       "1    desiigner    598.6        118.6          4.894941  Mumble Rap\n",
       "2    fetty wap    520.0        122.4          4.836354  Mumble Rap\n",
       "3       future    663.6        149.2          5.090932  Mumble Rap\n",
       "4  kodak black    622.8        137.2          4.997953  Mumble Rap"
      ]
     },
     "execution_count": 50,
     "metadata": {},
     "output_type": "execute_result"
    }
   ],
   "source": [
    "# Aggregate data by artist to find mean values, and create column to label artist by genre\n",
    "new_agg_df = new_final_df.groupby('artist').agg({\"#_words\" : \"mean\", \n",
    "                                                  \"#_big_words\" : \"mean\",\n",
    "                                                  \"big_avg_word_len\" : \"mean\"})\n",
    "new_agg_df = new_agg_df.reset_index()\n",
    "new_agg_df['Rap Genre'] = 'Mumble Rap'\n",
    "new_agg_df.head()"
   ]
  },
  {
   "cell_type": "code",
   "execution_count": 51,
   "metadata": {
    "collapsed": false
   },
   "outputs": [
    {
     "data": {
      "text/html": [
       "<div>\n",
       "<table border=\"1\" class=\"dataframe\">\n",
       "  <thead>\n",
       "    <tr style=\"text-align: right;\">\n",
       "      <th></th>\n",
       "      <th>artist</th>\n",
       "      <th>#_words</th>\n",
       "      <th>#_big_words</th>\n",
       "      <th>big_avg_word_len</th>\n",
       "      <th>Rap Genre</th>\n",
       "    </tr>\n",
       "  </thead>\n",
       "  <tbody>\n",
       "    <tr>\n",
       "      <th>0</th>\n",
       "      <td>2pac</td>\n",
       "      <td>663.400000</td>\n",
       "      <td>210.400000</td>\n",
       "      <td>5.063684</td>\n",
       "      <td>90's Rap</td>\n",
       "    </tr>\n",
       "    <tr>\n",
       "      <th>1</th>\n",
       "      <td>a tribe called quest</td>\n",
       "      <td>670.000000</td>\n",
       "      <td>240.600000</td>\n",
       "      <td>5.154719</td>\n",
       "      <td>90's Rap</td>\n",
       "    </tr>\n",
       "    <tr>\n",
       "      <th>2</th>\n",
       "      <td>bone thugs n harmony</td>\n",
       "      <td>792.750000</td>\n",
       "      <td>241.750000</td>\n",
       "      <td>5.015343</td>\n",
       "      <td>90's Rap</td>\n",
       "    </tr>\n",
       "    <tr>\n",
       "      <th>3</th>\n",
       "      <td>dr dre</td>\n",
       "      <td>672.666667</td>\n",
       "      <td>224.166667</td>\n",
       "      <td>5.059379</td>\n",
       "      <td>90's Rap</td>\n",
       "    </tr>\n",
       "    <tr>\n",
       "      <th>4</th>\n",
       "      <td>eminem</td>\n",
       "      <td>887.000000</td>\n",
       "      <td>264.400000</td>\n",
       "      <td>5.186498</td>\n",
       "      <td>90's Rap</td>\n",
       "    </tr>\n",
       "  </tbody>\n",
       "</table>\n",
       "</div>"
      ],
      "text/plain": [
       "                 artist     #_words  #_big_words  big_avg_word_len Rap Genre\n",
       "0                  2pac  663.400000   210.400000          5.063684  90's Rap\n",
       "1  a tribe called quest  670.000000   240.600000          5.154719  90's Rap\n",
       "2  bone thugs n harmony  792.750000   241.750000          5.015343  90's Rap\n",
       "3                dr dre  672.666667   224.166667          5.059379  90's Rap\n",
       "4                eminem  887.000000   264.400000          5.186498  90's Rap"
      ]
     },
     "execution_count": 51,
     "metadata": {},
     "output_type": "execute_result"
    }
   ],
   "source": [
    "# Concatenate \"old\" and \"new\" aggrated data frames\n",
    "all_results_df = pd.concat([old_agg_df, new_agg_df])\n",
    "all_results_df.head()"
   ]
  },
  {
   "cell_type": "code",
   "execution_count": 52,
   "metadata": {
    "collapsed": false
   },
   "outputs": [
    {
     "data": {
      "image/png": "[encoded data removed]",
      "text/plain": [
       "<matplotlib.figure.Figure at 0x118e47a58>"
      ]
     },
     "metadata": {},
     "output_type": "display_data"
    }
   ],
   "source": [
    "# Create a bar graph to show number of unique uncommon words by artist\n",
    "sns.set_style(\"whitegrid\")\n",
    "axa = sns.factorplot(x=\"artist\", y=\"#_big_words\", hue=\"Rap Genre\", data=all_results_df, kind='bar', size=7)\n",
    "axa.set_xticklabels(rotation=90)\n",
    "# Set title, x-axis label, y-axis label.\n",
    "plt.title('Total Unique Words: Old School v New School')\n",
    "plt.ylabel('# Unique Words')\n",
    "plt.xlabel('Artist')\n",
    "plt.savefig('images/old_v_new.png')\n",
    "plt.show()"
   ]
  },
  {
   "cell_type": "code",
   "execution_count": 53,
   "metadata": {
    "collapsed": false
   },
   "outputs": [
    {
     "data": {
      "image/png": "[encoded data removed]",
      "text/plain": [
       "<matplotlib.figure.Figure at 0x119c78b00>"
      ]
     },
     "metadata": {},
     "output_type": "display_data"
    }
   ],
   "source": [
    "# Create a bar graph to show average length of unique uncommon words by artist\n",
    "sns.set_style(\"whitegrid\")\n",
    "axa = sns.factorplot(x=\"artist\", y=\"big_avg_word_len\", hue=\"Rap Genre\", data=all_results_df, kind='bar', size=7)\n",
    "axa.set_xticklabels(rotation=90)\n",
    "# Set title, x-axis label, y-axis label.\n",
    "plt.title('Average Unique Word Length: Old School v New School')\n",
    "plt.ylabel('Unique Word Length')\n",
    "plt.xlabel('Artist')\n",
    "plt.savefig('images/old_v_new_length.png')\n",
    "plt.show()"
   ]
  }
 ],
 "metadata": {
  "kernelspec": {
   "display_name": "Python 3",
   "language": "python",
   "name": "python3"
  },
  "language_info": {
   "codemirror_mode": {
    "name": "ipython",
    "version": 3
   },
   "file_extension": ".py",
   "mimetype": "text/x-python",
   "name": "python",
   "nbconvert_exporter": "python",
   "pygments_lexer": "ipython3",
   "version": "3.6.0"
  }
 },
 "nbformat": 4,
 "nbformat_minor": 2
}
